{
 "cells": [
  {
   "cell_type": "code",
   "execution_count": null,
   "id": "descending-sperm",
   "metadata": {
    "ExecuteTime": {
     "end_time": "2022-03-17T14:25:51.840204Z",
     "start_time": "2022-03-17T14:25:51.394642Z"
    }
   },
   "outputs": [],
   "source": [
    "import pandas as pd\n",
    "\n",
    "from IPython.core.interactiveshell import InteractiveShell\n",
    "InteractiveShell.ast_node_interactivity = \"all\""
   ]
  },
  {
   "cell_type": "markdown",
   "id": "located-charger",
   "metadata": {},
   "source": [
    "# Introduction\n",
    "\n",
    "In this problem set we are going to combine our knowledge of probability and pandas to predict whether an article is about sports. \n",
    "\n",
    "**In the first part** we will predict whether an article is about sports depending on if it has the word \"<font color='green'>heat</font>\" but **NOT** the term \"<font color='orange'>grid iron</font>\" in it.\n",
    "\n",
    "To do so, we will use Naive Bayes, which means we will compute the numerator of\n",
    "\n",
    "<font color='blue'>$P(is\\_sports\\_article | heat, grid\\_iron) = \\frac{P(heat|is\\_sports\\_article) P(grid\\_iron|is\\_sports\\_article) P(is\\_sports\\_article)}{P(heat, grid\\_iron)}$</font>\n",
    "\n",
    "**In the second part** we will compare the probabilities produced when we apply the conditional independence assumption versus when we do not. \n"
   ]
  },
  {
   "cell_type": "markdown",
   "id": "musical-awareness",
   "metadata": {},
   "source": [
    "# Naive Bayes\n",
    "We are going to load our dataset and \"train\" our naive bayes model. \n",
    "\n",
    "Load the `is_sports_article.csv` file. Each row in this file is associated with one news article. The file has three columns:\n",
    " - **is_sports_article**: A binary variable indicating whether the article in that row is about sports (1) or food (0)\n",
    " - **grid_iron**: A binary variable indicating whether the word `grid_iron` appears in the article\n",
    " - **heat**: A binary variable indicating whether the word `heat` appears in the article"
   ]
  },
  {
   "cell_type": "code",
   "execution_count": null,
   "id": "opposite-buying",
   "metadata": {
    "ExecuteTime": {
     "end_time": "2022-10-03T20:59:08.370393Z",
     "start_time": "2022-10-03T20:59:08.284587Z"
    }
   },
   "outputs": [],
   "source": [
    "### load file here\n",
    "ps2_dataset = pd.read_csv('./is_sports_article.csv')\n",
    "\n"
   ]
  },
  {
   "cell_type": "code",
   "execution_count": null,
   "id": "royal-basics",
   "metadata": {
    "ExecuteTime": {
     "end_time": "2022-10-03T20:59:08.666076Z",
     "start_time": "2022-10-03T20:59:08.655471Z"
    }
   },
   "outputs": [],
   "source": [
    "ps2_dataset"
   ]
  },
  {
   "cell_type": "markdown",
   "id": "pointed-bruce",
   "metadata": {},
   "source": [
    "## Computing the first numerator (2 points)\n",
    "First we will compute the numerator if the new article is a sports article:\n",
    "\n",
    "<font color='blue'>$P(heat=1|is\\_sports\\_article=1) \\cdot P(grid\\_iron=0|is\\_sports\\_article=1) \\cdot P(is\\_sports\\_article=1)$ </font>\n",
    "\n",
    "\n",
    "**Compute:**\n",
    "\n",
    "-  <font color='purple'>$P(heat=1|is\\_sports\\_article=1)$ and assign it to `p_heat1_given_SA1`</font>\n",
    "\n",
    "-  <font color='purple'>$P(grid\\_iron=0|is\\_sports\\_article=1)$ and assign it to `p_gridiron0_given_SA1`</font>\n",
    "\n",
    "-  <font color='purple'>$P(is\\_sports\\_article=1)$ and assign it to `p_SA1`</font>\n",
    "\n",
    "-  <font color='purple'>Multiply these three terms and assign it to `numerator_SA1`</font>\n"
   ]
  },
  {
   "cell_type": "code",
   "execution_count": null,
   "id": "sixth-treasure",
   "metadata": {
    "ExecuteTime": {
     "end_time": "2022-03-17T14:21:09.477521Z",
     "start_time": "2022-03-17T14:21:09.464882Z"
    }
   },
   "outputs": [],
   "source": [
    "\n"
   ]
  },
  {
   "cell_type": "markdown",
   "id": "manual-second",
   "metadata": {
    "ExecuteTime": {
     "end_time": "2022-03-05T21:44:28.847211Z",
     "start_time": "2022-03-05T21:44:28.819469Z"
    }
   },
   "source": [
    "## Computing the second numerator (2 points)\n",
    "Next we will compute the numerator if the new article is a cooking article:\n",
    "\n",
    "<font color='blue'>$P(heat=1|is\\_sports\\_article=0) \\cdot P(grid\\_iron|is\\_sports\\_article=0) \\cdot P(is\\_sports\\_article=0)$ </font>\n",
    "\n",
    "**Compute:**\n",
    "\n",
    "-  <font color='purple'>$P(heat=1|is\\_sports\\_article=0)$ and assign it to `p_heat1_given_SA0`</font>\n",
    "\n",
    "-  <font color='purple'>$P(grid\\_iron=0|is\\_sports\\_article=0)$ and assign it to `p_gridiron0_given_SA0`</font>\n",
    "\n",
    "-  <font color='purple'>$P(is\\_sports\\_article=0)$ and assign it to `p_SA0`</font>\n",
    "\n",
    "-  <font color='purple'>Multiply these three terms and assign it to `numerator_SA0`</font>\n"
   ]
  },
  {
   "cell_type": "code",
   "execution_count": null,
   "id": "addressed-quality",
   "metadata": {},
   "outputs": [],
   "source": [
    "\n",
    "\n",
    "\n",
    "\n"
   ]
  },
  {
   "cell_type": "markdown",
   "id": "adverse-specification",
   "metadata": {},
   "source": [
    "## Prediction (1 point)\n",
    "<font color='purple'>Based on `numerator_SA1` and `numerator_SA0` would the algorithm predict the an article is about sports if the article has the word `heat` in it, but no the term `grid iron`?</font>\n"
   ]
  },
  {
   "cell_type": "code",
   "execution_count": null,
   "id": "involved-concert",
   "metadata": {},
   "outputs": [],
   "source": [
    "\n"
   ]
  },
  {
   "cell_type": "markdown",
   "id": "d3244bf5",
   "metadata": {},
   "source": [
    "## Compute the denominator (1 point)\n",
    "We are going to use the denominator down below, so for now:\n",
    "- Compute <font color='purple'>Compute $P(heat=1, grid\\_iron=0)$ and assign it to `p_heat1_gridiron0`</font>\n"
   ]
  },
  {
   "cell_type": "code",
   "execution_count": null,
   "id": "ba1f13f5",
   "metadata": {},
   "outputs": [],
   "source": []
  },
  {
   "cell_type": "markdown",
   "id": "cb03ff9a",
   "metadata": {},
   "source": [
    "# The Conditional Independence Assumption\n",
    "Now we are going to compare: \n",
    "\n",
    "<font color='blue'>$P(is\\_sports\\_article | heat, grid\\_iron) = \\frac{P(heat|is\\_sports\\_article) P(grid\\_iron|is\\_sports\\_article) P(is\\_sports\\_article}{P(heat, grid\\_iron)}$</font>\n",
    "\n",
    "with \n",
    "\n",
    "<font color='blue'>$P(is\\_sports\\_article | heat, grid\\_iron) = \\frac{P(heat, grid\\_iron|is\\_sports\\_article) P(is\\_sports\\_article)}{P(heat, grid\\_iron)}$</font>\n",
    "\n",
    "(Notice that the denominator is the same for both of these. (And, in fact, we just computed it in the previous question.))"
   ]
  },
  {
   "cell_type": "markdown",
   "id": "challenging-perspective",
   "metadata": {},
   "source": [
    "## Computing the numerator when not assuming conditional independence (2 points)\n",
    "Compute:\n",
    "\n",
    "- <font color='purple'>$P(heat=1, grid\\_iron=0|is\\_sports\\_article=1)$ and assign it to `p_heat1_gridiron0_given_SA1`</font>\n",
    "\n",
    "\n",
    "- <font color='purple'>$P(heat=1, grid\\_iron=0|is\\_sports\\_article=0)$ and assign it to `p_heat1_gridiron0_given_SA0`</font>"
   ]
  },
  {
   "cell_type": "code",
   "execution_count": null,
   "id": "killing-pakistan",
   "metadata": {},
   "outputs": [],
   "source": [
    "\n",
    "\n",
    "\n",
    "\n"
   ]
  },
  {
   "cell_type": "markdown",
   "id": "iraqi-genealogy",
   "metadata": {
    "ExecuteTime": {
     "end_time": "2022-03-05T01:02:20.988440Z",
     "start_time": "2022-03-05T01:02:20.969203Z"
    }
   },
   "source": [
    "## Computing the probabilities (1 point)\n",
    "Now we are going to compute the four probabilities:\n",
    "\n",
    "1) <font color='purple'>Compute\n",
    "$P(is\\_sports\\_article=1|heat=1, grid\\_iron=0)$ using the **conditional independence assumption method** and assign it to `p_SA1_yes_CIA`</font>\n",
    "\n",
    "2) <font color='purple'>Compute\n",
    "$P(is\\_sports\\_article=0|heat=1, grid\\_iron=0)$ using the **conditional independence assumption method** and assign it to `p_SA0_yes_CIA`</font>\n",
    "\n",
    "3) <font color='purple'>Compute\n",
    "Then, compute:\n",
    "$P(is\\_sports\\_article=1|heat=1, grid\\_iron=0)$ **WITHOUT** using the **conditional independence assumption** and assign it to `p_SA1_no_CIA`</font>\n",
    "\n",
    "4) <font color='purple'>Compute\n",
    "$P(is\\_sports\\_article=0|heat=1, grid\\_iron=0)$ **WITHOUT** using the **conditional independence assumption** and assign it to `p_SA0_no_CIA`</font>\n",
    "\n"
   ]
  },
  {
   "cell_type": "code",
   "execution_count": null,
   "id": "injured-allah",
   "metadata": {},
   "outputs": [],
   "source": [
    "\n",
    "\n",
    "\n"
   ]
  },
  {
   "cell_type": "markdown",
   "id": "36e3dc57",
   "metadata": {},
   "source": [
    "## Calibration (1 point)\n",
    "Using your answers to the previous question, can you say if the probabilities produced with the conditional independence assumption are calibrated? Why?"
   ]
  },
  {
   "cell_type": "code",
   "execution_count": null,
   "id": "931ab488",
   "metadata": {},
   "outputs": [],
   "source": []
  }
 ],
 "metadata": {
  "hide_input": false,
  "kernelspec": {
   "display_name": "Python 3 (ipykernel)",
   "language": "python",
   "name": "python3"
  },
  "language_info": {
   "codemirror_mode": {
    "name": "ipython",
    "version": 3
   },
   "file_extension": ".py",
   "mimetype": "text/x-python",
   "name": "python",
   "nbconvert_exporter": "python",
   "pygments_lexer": "ipython3",
   "version": "3.7.13"
  },
  "latex_envs": {
   "LaTeX_envs_menu_present": true,
   "autoclose": true,
   "autocomplete": true,
   "bibliofile": "biblio.bib",
   "cite_by": "apalike",
   "current_citInitial": 1,
   "eqLabelWithNumbers": true,
   "eqNumInitial": 1,
   "hotkeys": {
    "equation": "Ctrl-E",
    "itemize": "Ctrl-I"
   },
   "labels_anchors": false,
   "latex_user_defs": false,
   "report_style_numbering": false,
   "user_envs_cfg": false
  },
  "toc": {
   "base_numbering": 1,
   "nav_menu": {},
   "number_sections": true,
   "sideBar": true,
   "skip_h1_title": false,
   "title_cell": "Table of Contents",
   "title_sidebar": "Contents",
   "toc_cell": false,
   "toc_position": {},
   "toc_section_display": true,
   "toc_window_display": true
  },
  "vscode": {
   "interpreter": {
    "hash": "5ade917c15395e7ed88b1e8a3f8554ff754a526a8e0b703e5d887afe50fc6c32"
   }
  }
 },
 "nbformat": 4,
 "nbformat_minor": 5
}
